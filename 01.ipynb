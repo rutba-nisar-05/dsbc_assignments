{
 "cells": [
  {
   "cell_type": "code",
   "execution_count": 4,
   "id": "9b525278",
   "metadata": {},
   "outputs": [
    {
     "name": "stdout",
     "output_type": "stream",
     "text": [
      "1\n",
      "3\n",
      "5\n",
      "7\n",
      "9\n",
      "11\n",
      "13\n",
      "15\n",
      "17\n",
      "19\n"
     ]
    }
   ],
   "source": [
    "#Q-1\n",
    "pre_num = 0\n",
    "for i in range(1,11):\n",
    "    print(i + pre_num)\n",
    "    pre_num = i"
   ]
  },
  {
   "cell_type": "code",
   "execution_count": 2,
   "id": "b87cddb0",
   "metadata": {},
   "outputs": [
    {
     "name": "stdout",
     "output_type": "stream",
     "text": [
      "1 \r\n",
      "2 2 \r\n",
      "3 3 3 \r\n",
      "4 4 4 4 \r\n",
      "5 5 5 5 5 \r\n"
     ]
    }
   ],
   "source": [
    "#Q-2\n",
    "for i in range(1, 6):\n",
    "    for j in range(i):\n",
    "        print(i, end=\" \")\n",
    "    print('\\r')"
   ]
  },
  {
   "cell_type": "code",
   "execution_count": 4,
   "id": "18118271",
   "metadata": {},
   "outputs": [
    {
     "name": "stdout",
     "output_type": "stream",
     "text": [
      "75\n",
      "150\n",
      "145\n"
     ]
    }
   ],
   "source": [
    "#Q-3\n",
    "numbers = [12, 75, 150, 180, 145, 525, 50]\n",
    "for n in numbers:\n",
    "    if n > 500:\n",
    "        break\n",
    "    elif n % 5 == 0:\n",
    "        if n > 150:\n",
    "            continue\n",
    "        print(n)"
   ]
  },
  {
   "cell_type": "code",
   "execution_count": 11,
   "id": "51bf7d72",
   "metadata": {},
   "outputs": [
    {
     "name": "stdout",
     "output_type": "stream",
     "text": [
      "0\n",
      "1\n",
      "1\n",
      "2\n",
      "3\n",
      "5\n",
      "8\n",
      "13\n",
      "21\n",
      "34\n"
     ]
    }
   ],
   "source": [
    "#Q-4\n",
    "n1 = 0\n",
    "n2 = 1\n",
    "print(n1)\n",
    "print(n2)\n",
    "for i in range(8):\n",
    "    n3=n1+n2\n",
    "    print(n3)\n",
    "    n1,n2=n2,n3"
   ]
  },
  {
   "cell_type": "code",
   "execution_count": 27,
   "id": "81d9e8b1",
   "metadata": {},
   "outputs": [
    {
     "name": "stdout",
     "output_type": "stream",
     "text": [
      "Enter a whole number to calculate its factorial: 4\n",
      "24\n"
     ]
    }
   ],
   "source": [
    "#Q-5\n",
    "num = int(input(\"Enter a whole number to calculate its factorial: \"))\n",
    "fac = 1;\n",
    "for i in range(1 , num+1):\n",
    "    fac *= i\n",
    "print(fac)"
   ]
  },
  {
   "cell_type": "code",
   "execution_count": 1,
   "id": "30a0a151",
   "metadata": {},
   "outputs": [
    {
     "name": "stdout",
     "output_type": "stream",
     "text": [
      "Printing count of each item:\n",
      "11 : 2\n",
      "45 : 3\n",
      "8 : 1\n",
      "23 : 2\n",
      "89 : 1\n"
     ]
    }
   ],
   "source": [
    "#Q-6\n",
    "sample_list = [11, 45, 8, 11, 23, 45, 23, 45, 89]\n",
    "count = {}\n",
    "\n",
    "for item in sample_list:\n",
    "    if item in count:\n",
    "        count[item] += 1\n",
    "    else:\n",
    "        count[item] = 1\n",
    "\n",
    "print(\"Printing count of each item:\")\n",
    "for item in count:\n",
    "    print(item, \":\", count[item])"
   ]
  },
  {
   "cell_type": "code",
   "execution_count": 8,
   "id": "15b5511f",
   "metadata": {},
   "outputs": [
    {
     "name": "stdout",
     "output_type": "stream",
     "text": [
      "[6, 12, 18, 4, 12, 20, 28]\n"
     ]
    }
   ],
   "source": [
    "#Q-7\n",
    "l1 = [3, 6, 9, 12, 15, 18, 21]\n",
    "l2 = [4, 8, 12, 16, 20, 24, 28]\n",
    "l3 = []\n",
    "\n",
    "for i in range(1, len(l1), 2):    #(start, stop, step)  start from index 1 and increment index by 2 to skip to the odd index.\n",
    "    l3.append(l1[i])\n",
    "for i in range(0, len(l1), 2):    #same logic but start from 0 as 0 is considered an even number.\n",
    "    l3.append(l2[i])\n",
    "print(l3)"
   ]
  },
  {
   "cell_type": "code",
   "execution_count": null,
   "id": "725eebb5",
   "metadata": {},
   "outputs": [],
   "source": []
  }
 ],
 "metadata": {
  "kernelspec": {
   "display_name": "Python 3 (ipykernel)",
   "language": "python",
   "name": "python3"
  },
  "language_info": {
   "codemirror_mode": {
    "name": "ipython",
    "version": 3
   },
   "file_extension": ".py",
   "mimetype": "text/x-python",
   "name": "python",
   "nbconvert_exporter": "python",
   "pygments_lexer": "ipython3",
   "version": "3.11.5"
  }
 },
 "nbformat": 4,
 "nbformat_minor": 5
}
